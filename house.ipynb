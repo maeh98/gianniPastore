{
 "cells": [
  {
   "cell_type": "markdown",
   "metadata": {},
   "source": [
    "# Kaggle House Competition Notebook\n",
    "This Notebook is inteded as an attempt at the kaggle house competition. It is meant to illustrate all aspects of workflow from Data loading over data analysis to model predictions"
   ]
  },
  {
   "attachments": {},
   "cell_type": "markdown",
   "metadata": {},
   "source": [
    "Import libraries"
   ]
  },
  {
   "cell_type": "code",
   "execution_count": 25,
   "metadata": {},
   "outputs": [],
   "source": [
    "import pandas as pd\n",
    "import sklearn as sk\n",
    "import matplotlib.pyplot as plt\n",
    "import seaborn as sns\n",
    "import numpy as np\n",
    "from sklearn.linear_model import LinearRegression"
   ]
  },
  {
   "attachments": {},
   "cell_type": "markdown",
   "metadata": {},
   "source": [
    "Data loading"
   ]
  },
  {
   "cell_type": "code",
   "execution_count": 26,
   "metadata": {},
   "outputs": [],
   "source": [
    "filename = \"data/train.csv\"\n",
    "train = pd.read_csv(filename)\n",
    "# print(train.isnull().sum().values)\n"
   ]
  },
  {
   "attachments": {},
   "cell_type": "markdown",
   "metadata": {},
   "source": [
    "Data analysis"
   ]
  },
  {
   "cell_type": "markdown",
   "metadata": {},
   "source": []
  },
  {
   "cell_type": "code",
   "execution_count": 27,
   "metadata": {},
   "outputs": [
    {
     "data": {
      "text/html": [
       "<div>\n",
       "<style scoped>\n",
       "    .dataframe tbody tr th:only-of-type {\n",
       "        vertical-align: middle;\n",
       "    }\n",
       "\n",
       "    .dataframe tbody tr th {\n",
       "        vertical-align: top;\n",
       "    }\n",
       "\n",
       "    .dataframe thead th {\n",
       "        text-align: right;\n",
       "    }\n",
       "</style>\n",
       "<table border=\"1\" class=\"dataframe\">\n",
       "  <thead>\n",
       "    <tr style=\"text-align: right;\">\n",
       "      <th></th>\n",
       "      <th>Id</th>\n",
       "      <th>MSSubClass</th>\n",
       "      <th>MSZoning</th>\n",
       "      <th>LotFrontage</th>\n",
       "      <th>LotArea</th>\n",
       "      <th>Street</th>\n",
       "      <th>Alley</th>\n",
       "      <th>LotShape</th>\n",
       "      <th>LandContour</th>\n",
       "      <th>Utilities</th>\n",
       "      <th>...</th>\n",
       "      <th>PoolArea</th>\n",
       "      <th>PoolQC</th>\n",
       "      <th>Fence</th>\n",
       "      <th>MiscFeature</th>\n",
       "      <th>MiscVal</th>\n",
       "      <th>MoSold</th>\n",
       "      <th>YrSold</th>\n",
       "      <th>SaleType</th>\n",
       "      <th>SaleCondition</th>\n",
       "      <th>SalePrice</th>\n",
       "    </tr>\n",
       "  </thead>\n",
       "  <tbody>\n",
       "    <tr>\n",
       "      <th>0</th>\n",
       "      <td>1</td>\n",
       "      <td>60</td>\n",
       "      <td>RL</td>\n",
       "      <td>65.0</td>\n",
       "      <td>8450</td>\n",
       "      <td>Pave</td>\n",
       "      <td>NaN</td>\n",
       "      <td>Reg</td>\n",
       "      <td>Lvl</td>\n",
       "      <td>AllPub</td>\n",
       "      <td>...</td>\n",
       "      <td>0</td>\n",
       "      <td>NaN</td>\n",
       "      <td>NaN</td>\n",
       "      <td>NaN</td>\n",
       "      <td>0</td>\n",
       "      <td>2</td>\n",
       "      <td>2008</td>\n",
       "      <td>WD</td>\n",
       "      <td>Normal</td>\n",
       "      <td>208500</td>\n",
       "    </tr>\n",
       "    <tr>\n",
       "      <th>1</th>\n",
       "      <td>2</td>\n",
       "      <td>20</td>\n",
       "      <td>RL</td>\n",
       "      <td>80.0</td>\n",
       "      <td>9600</td>\n",
       "      <td>Pave</td>\n",
       "      <td>NaN</td>\n",
       "      <td>Reg</td>\n",
       "      <td>Lvl</td>\n",
       "      <td>AllPub</td>\n",
       "      <td>...</td>\n",
       "      <td>0</td>\n",
       "      <td>NaN</td>\n",
       "      <td>NaN</td>\n",
       "      <td>NaN</td>\n",
       "      <td>0</td>\n",
       "      <td>5</td>\n",
       "      <td>2007</td>\n",
       "      <td>WD</td>\n",
       "      <td>Normal</td>\n",
       "      <td>181500</td>\n",
       "    </tr>\n",
       "    <tr>\n",
       "      <th>2</th>\n",
       "      <td>3</td>\n",
       "      <td>60</td>\n",
       "      <td>RL</td>\n",
       "      <td>68.0</td>\n",
       "      <td>11250</td>\n",
       "      <td>Pave</td>\n",
       "      <td>NaN</td>\n",
       "      <td>IR1</td>\n",
       "      <td>Lvl</td>\n",
       "      <td>AllPub</td>\n",
       "      <td>...</td>\n",
       "      <td>0</td>\n",
       "      <td>NaN</td>\n",
       "      <td>NaN</td>\n",
       "      <td>NaN</td>\n",
       "      <td>0</td>\n",
       "      <td>9</td>\n",
       "      <td>2008</td>\n",
       "      <td>WD</td>\n",
       "      <td>Normal</td>\n",
       "      <td>223500</td>\n",
       "    </tr>\n",
       "    <tr>\n",
       "      <th>3</th>\n",
       "      <td>4</td>\n",
       "      <td>70</td>\n",
       "      <td>RL</td>\n",
       "      <td>60.0</td>\n",
       "      <td>9550</td>\n",
       "      <td>Pave</td>\n",
       "      <td>NaN</td>\n",
       "      <td>IR1</td>\n",
       "      <td>Lvl</td>\n",
       "      <td>AllPub</td>\n",
       "      <td>...</td>\n",
       "      <td>0</td>\n",
       "      <td>NaN</td>\n",
       "      <td>NaN</td>\n",
       "      <td>NaN</td>\n",
       "      <td>0</td>\n",
       "      <td>2</td>\n",
       "      <td>2006</td>\n",
       "      <td>WD</td>\n",
       "      <td>Abnorml</td>\n",
       "      <td>140000</td>\n",
       "    </tr>\n",
       "    <tr>\n",
       "      <th>4</th>\n",
       "      <td>5</td>\n",
       "      <td>60</td>\n",
       "      <td>RL</td>\n",
       "      <td>84.0</td>\n",
       "      <td>14260</td>\n",
       "      <td>Pave</td>\n",
       "      <td>NaN</td>\n",
       "      <td>IR1</td>\n",
       "      <td>Lvl</td>\n",
       "      <td>AllPub</td>\n",
       "      <td>...</td>\n",
       "      <td>0</td>\n",
       "      <td>NaN</td>\n",
       "      <td>NaN</td>\n",
       "      <td>NaN</td>\n",
       "      <td>0</td>\n",
       "      <td>12</td>\n",
       "      <td>2008</td>\n",
       "      <td>WD</td>\n",
       "      <td>Normal</td>\n",
       "      <td>250000</td>\n",
       "    </tr>\n",
       "  </tbody>\n",
       "</table>\n",
       "<p>5 rows × 81 columns</p>\n",
       "</div>"
      ],
      "text/plain": [
       "   Id  MSSubClass MSZoning  LotFrontage  LotArea Street Alley LotShape  \\\n",
       "0   1          60       RL         65.0     8450   Pave   NaN      Reg   \n",
       "1   2          20       RL         80.0     9600   Pave   NaN      Reg   \n",
       "2   3          60       RL         68.0    11250   Pave   NaN      IR1   \n",
       "3   4          70       RL         60.0     9550   Pave   NaN      IR1   \n",
       "4   5          60       RL         84.0    14260   Pave   NaN      IR1   \n",
       "\n",
       "  LandContour Utilities  ... PoolArea PoolQC Fence MiscFeature MiscVal MoSold  \\\n",
       "0         Lvl    AllPub  ...        0    NaN   NaN         NaN       0      2   \n",
       "1         Lvl    AllPub  ...        0    NaN   NaN         NaN       0      5   \n",
       "2         Lvl    AllPub  ...        0    NaN   NaN         NaN       0      9   \n",
       "3         Lvl    AllPub  ...        0    NaN   NaN         NaN       0      2   \n",
       "4         Lvl    AllPub  ...        0    NaN   NaN         NaN       0     12   \n",
       "\n",
       "  YrSold  SaleType  SaleCondition  SalePrice  \n",
       "0   2008        WD         Normal     208500  \n",
       "1   2007        WD         Normal     181500  \n",
       "2   2008        WD         Normal     223500  \n",
       "3   2006        WD        Abnorml     140000  \n",
       "4   2008        WD         Normal     250000  \n",
       "\n",
       "[5 rows x 81 columns]"
      ]
     },
     "execution_count": 27,
     "metadata": {},
     "output_type": "execute_result"
    }
   ],
   "source": [
    "train.head()"
   ]
  },
  {
   "attachments": {},
   "cell_type": "markdown",
   "metadata": {},
   "source": [
    "Data Viz\n"
   ]
  },
  {
   "cell_type": "code",
   "execution_count": 28,
   "metadata": {},
   "outputs": [
    {
     "name": "stderr",
     "output_type": "stream",
     "text": [
      "/tmp/ipykernel_14590/1637237975.py:1: UserWarning: \n",
      "\n",
      "`distplot` is a deprecated function and will be removed in seaborn v0.14.0.\n",
      "\n",
      "Please adapt your code to use either `displot` (a figure-level function with\n",
      "similar flexibility) or `histplot` (an axes-level function for histograms).\n",
      "\n",
      "For a guide to updating your code to use the new functions, please see\n",
      "https://gist.github.com/mwaskom/de44147ed2974457ad6372750bbe5751\n",
      "\n",
      "  sns.distplot(train[\"SalePrice\"])\n"
     ]
    },
    {
     "data": {
      "text/plain": [
       "<AxesSubplot: xlabel='SalePrice', ylabel='Density'>"
      ]
     },
     "execution_count": 28,
     "metadata": {},
     "output_type": "execute_result"
    },
    {
     "data": {
      "image/png": "[encoded data removed]",
      "text/plain": [
       "<Figure size 640x480 with 1 Axes>"
      ]
     },
     "metadata": {},
     "output_type": "display_data"
    }
   ],
   "source": [
    "sns.distplot(train[\"SalePrice\"])"
   ]
  },
  {
   "cell_type": "code",
   "execution_count": 29,
   "metadata": {},
   "outputs": [
    {
     "data": {
      "text/plain": [
       "<AxesSubplot: >"
      ]
     },
     "execution_count": 29,
     "metadata": {},
     "output_type": "execute_result"
    },
    {
     "data": {
      "image/png": "[encoded data removed]",
      "text/plain": [
       "<Figure size 640x480 with 1 Axes>"
      ]
     },
     "metadata": {},
     "output_type": "display_data"
    }
   ],
   "source": [
    "subclass = train[\"MSSubClass\"]\n",
    "subclass_counts = subclass.value_counts()\n",
    "subclass_counts\n",
    "subclasses = subclass.unique()\n",
    "subclasses.sort()\n",
    "subclass_counts = subclass_counts[subclasses]\n",
    "subclass_counts.plot.bar()"
   ]
  },
  {
   "cell_type": "code",
   "execution_count": 30,
   "metadata": {},
   "outputs": [
    {
     "data": {
      "text/plain": [
       "<AxesSubplot: xlabel='MSSubClass', ylabel='SalePrice'>"
      ]
     },
     "execution_count": 30,
     "metadata": {},
     "output_type": "execute_result"
    },
    {
     "data": {
      "image/png": "[encoded data removed]",
      "text/plain": [
       "<Figure size 1200x400 with 1 Axes>"
      ]
     },
     "metadata": {},
     "output_type": "display_data"
    }
   ],
   "source": [
    "fig, ax = plt.subplots(nrows = 1, ncols = 1, figsize = (12,4))\n",
    "sns.violinplot(data = train, x = \"MSSubClass\", y = \"SalePrice\" , ax = ax)"
   ]
  },
  {
   "cell_type": "code",
   "execution_count": 31,
   "metadata": {},
   "outputs": [
    {
     "data": {
      "text/plain": [
       "(array([536.,  69.,   4.,  12., 144., 299.,  60.,  16.,  58.,  20.,  52.,\n",
       "         87.,  63.,  40.]),\n",
       " array([ 20.,  30.,  40.,  45.,  50.,  60.,  70.,  75.,  80.,  85.,  90.,\n",
       "        120., 160., 180., 190.]),\n",
       " <BarContainer object of 14 artists>)"
      ]
     },
     "execution_count": 31,
     "metadata": {},
     "output_type": "execute_result"
    },
    {
     "data": {
      "image/png": "[encoded data removed]",
      "text/plain": [
       "<Figure size 640x480 with 1 Axes>"
      ]
     },
     "metadata": {},
     "output_type": "display_data"
    }
   ],
   "source": [
    "plt.hist(subclass, bins = subclasses)"
   ]
  },
  {
   "attachments": {},
   "cell_type": "markdown",
   "metadata": {},
   "source": [
    "## We go for a smaller model"
   ]
  },
  {
   "cell_type": "code",
   "execution_count": 32,
   "metadata": {},
   "outputs": [
    {
     "data": {
      "text/html": [
       "<div>\n",
       "<style scoped>\n",
       "    .dataframe tbody tr th:only-of-type {\n",
       "        vertical-align: middle;\n",
       "    }\n",
       "\n",
       "    .dataframe tbody tr th {\n",
       "        vertical-align: top;\n",
       "    }\n",
       "\n",
       "    .dataframe thead th {\n",
       "        text-align: right;\n",
       "    }\n",
       "</style>\n",
       "<table border=\"1\" class=\"dataframe\">\n",
       "  <thead>\n",
       "    <tr style=\"text-align: right;\">\n",
       "      <th></th>\n",
       "      <th>MSSubClass</th>\n",
       "      <th>LotFrontage</th>\n",
       "      <th>MasVnrType</th>\n",
       "      <th>OverallQual</th>\n",
       "      <th>LotArea</th>\n",
       "      <th>Neighborhood</th>\n",
       "      <th>GrLivArea</th>\n",
       "      <th>SalePrice</th>\n",
       "    </tr>\n",
       "  </thead>\n",
       "  <tbody>\n",
       "    <tr>\n",
       "      <th>0</th>\n",
       "      <td>60</td>\n",
       "      <td>65.0</td>\n",
       "      <td>BrkFace</td>\n",
       "      <td>7</td>\n",
       "      <td>8450</td>\n",
       "      <td>CollgCr</td>\n",
       "      <td>1710</td>\n",
       "      <td>208500</td>\n",
       "    </tr>\n",
       "    <tr>\n",
       "      <th>1</th>\n",
       "      <td>20</td>\n",
       "      <td>80.0</td>\n",
       "      <td>None</td>\n",
       "      <td>6</td>\n",
       "      <td>9600</td>\n",
       "      <td>Veenker</td>\n",
       "      <td>1262</td>\n",
       "      <td>181500</td>\n",
       "    </tr>\n",
       "    <tr>\n",
       "      <th>2</th>\n",
       "      <td>60</td>\n",
       "      <td>68.0</td>\n",
       "      <td>BrkFace</td>\n",
       "      <td>7</td>\n",
       "      <td>11250</td>\n",
       "      <td>CollgCr</td>\n",
       "      <td>1786</td>\n",
       "      <td>223500</td>\n",
       "    </tr>\n",
       "    <tr>\n",
       "      <th>3</th>\n",
       "      <td>70</td>\n",
       "      <td>60.0</td>\n",
       "      <td>None</td>\n",
       "      <td>7</td>\n",
       "      <td>9550</td>\n",
       "      <td>Crawfor</td>\n",
       "      <td>1717</td>\n",
       "      <td>140000</td>\n",
       "    </tr>\n",
       "    <tr>\n",
       "      <th>4</th>\n",
       "      <td>60</td>\n",
       "      <td>84.0</td>\n",
       "      <td>BrkFace</td>\n",
       "      <td>8</td>\n",
       "      <td>14260</td>\n",
       "      <td>NoRidge</td>\n",
       "      <td>2198</td>\n",
       "      <td>250000</td>\n",
       "    </tr>\n",
       "  </tbody>\n",
       "</table>\n",
       "</div>"
      ],
      "text/plain": [
       "   MSSubClass  LotFrontage MasVnrType  OverallQual  LotArea Neighborhood  \\\n",
       "0          60         65.0    BrkFace            7     8450      CollgCr   \n",
       "1          20         80.0       None            6     9600      Veenker   \n",
       "2          60         68.0    BrkFace            7    11250      CollgCr   \n",
       "3          70         60.0       None            7     9550      Crawfor   \n",
       "4          60         84.0    BrkFace            8    14260      NoRidge   \n",
       "\n",
       "   GrLivArea  SalePrice  \n",
       "0       1710     208500  \n",
       "1       1262     181500  \n",
       "2       1786     223500  \n",
       "3       1717     140000  \n",
       "4       2198     250000  "
      ]
     },
     "execution_count": 32,
     "metadata": {},
     "output_type": "execute_result"
    }
   ],
   "source": [
    "columns_less = ['MSSubClass', 'LotFrontage', 'MasVnrType', 'OverallQual', 'LotArea', 'Neighborhood', 'GrLivArea', 'SalePrice']\n",
    "train_small = train[columns_less]\n",
    "train_small.head()"
   ]
  },
  {
   "cell_type": "code",
   "execution_count": 33,
   "metadata": {},
   "outputs": [],
   "source": [
    "train_small.Neighborhood.value_counts();\n"
   ]
  },
  {
   "attachments": {},
   "cell_type": "markdown",
   "metadata": {},
   "source": [
    "Filling nan values for the LotFrontage variables"
   ]
  },
  {
   "cell_type": "code",
   "execution_count": 34,
   "metadata": {},
   "outputs": [],
   "source": [
    "# Checking nan values\n",
    "index = train_small['LotFrontage'].isna()\n",
    "train_small['LotFrontage'][index];"
   ]
  },
  {
   "cell_type": "code",
   "execution_count": 35,
   "metadata": {},
   "outputs": [
    {
     "name": "stderr",
     "output_type": "stream",
     "text": [
      "/tmp/ipykernel_14590/1683090156.py:2: SettingWithCopyWarning: \n",
      "A value is trying to be set on a copy of a slice from a DataFrame\n",
      "\n",
      "See the caveats in the documentation: https://pandas.pydata.org/pandas-docs/stable/user_guide/indexing.html#returning-a-view-versus-a-copy\n",
      "  train_small['LotFrontage'].fillna(train_small['LotFrontage'].median(), inplace=True)\n"
     ]
    }
   ],
   "source": [
    "# train_OHE['LotFrontage'].median()\n",
    "train_small['LotFrontage'].fillna(train_small['LotFrontage'].median(), inplace=True)\n",
    "train_small['LotFrontage'][index];\n",
    "#print([i for i in train_OHE.isna().sum() if i > 0])\n",
    "#train_OHE.isna().sum().any()"
   ]
  },
  {
   "attachments": {},
   "cell_type": "markdown",
   "metadata": {},
   "source": [
    "Fillna for the MasVnrType variable"
   ]
  },
  {
   "cell_type": "code",
   "execution_count": 36,
   "metadata": {},
   "outputs": [
    {
     "name": "stderr",
     "output_type": "stream",
     "text": [
      "/tmp/ipykernel_14590/403859249.py:4: SettingWithCopyWarning: \n",
      "A value is trying to be set on a copy of a slice from a DataFrame\n",
      "\n",
      "See the caveats in the documentation: https://pandas.pydata.org/pandas-docs/stable/user_guide/indexing.html#returning-a-view-versus-a-copy\n",
      "  train_small.MasVnrType.fillna('NA', inplace=True);\n"
     ]
    }
   ],
   "source": [
    "#train.MasVnrType.value_counts()\n",
    "#train.MasVnrType[1]\n",
    "#train.MasVnrType[train.MasVnrType.isna()]\n",
    "train_small.MasVnrType.fillna('NA', inplace=True);\n"
   ]
  },
  {
   "attachments": {},
   "cell_type": "markdown",
   "metadata": {},
   "source": [
    "One hot encoding of categorical variables"
   ]
  },
  {
   "cell_type": "code",
   "execution_count": 37,
   "metadata": {},
   "outputs": [],
   "source": [
    "train_OHE = pd.get_dummies(train_small, columns=['MSSubClass', 'MasVnrType', 'Neighborhood'], drop_first=True)\n"
   ]
  },
  {
   "cell_type": "code",
   "execution_count": 38,
   "metadata": {},
   "outputs": [
    {
     "data": {
      "text/html": [
       "<div>\n",
       "<style scoped>\n",
       "    .dataframe tbody tr th:only-of-type {\n",
       "        vertical-align: middle;\n",
       "    }\n",
       "\n",
       "    .dataframe tbody tr th {\n",
       "        vertical-align: top;\n",
       "    }\n",
       "\n",
       "    .dataframe thead th {\n",
       "        text-align: right;\n",
       "    }\n",
       "</style>\n",
       "<table border=\"1\" class=\"dataframe\">\n",
       "  <thead>\n",
       "    <tr style=\"text-align: right;\">\n",
       "      <th></th>\n",
       "      <th>LotFrontage</th>\n",
       "      <th>OverallQual</th>\n",
       "      <th>LotArea</th>\n",
       "      <th>GrLivArea</th>\n",
       "      <th>SalePrice</th>\n",
       "      <th>MSSubClass_30</th>\n",
       "      <th>MSSubClass_40</th>\n",
       "      <th>MSSubClass_45</th>\n",
       "      <th>MSSubClass_50</th>\n",
       "      <th>MSSubClass_60</th>\n",
       "      <th>...</th>\n",
       "      <th>Neighborhood_NoRidge</th>\n",
       "      <th>Neighborhood_NridgHt</th>\n",
       "      <th>Neighborhood_OldTown</th>\n",
       "      <th>Neighborhood_SWISU</th>\n",
       "      <th>Neighborhood_Sawyer</th>\n",
       "      <th>Neighborhood_SawyerW</th>\n",
       "      <th>Neighborhood_Somerst</th>\n",
       "      <th>Neighborhood_StoneBr</th>\n",
       "      <th>Neighborhood_Timber</th>\n",
       "      <th>Neighborhood_Veenker</th>\n",
       "    </tr>\n",
       "  </thead>\n",
       "  <tbody>\n",
       "    <tr>\n",
       "      <th>0</th>\n",
       "      <td>65.0</td>\n",
       "      <td>7</td>\n",
       "      <td>8450</td>\n",
       "      <td>1710</td>\n",
       "      <td>208500</td>\n",
       "      <td>0</td>\n",
       "      <td>0</td>\n",
       "      <td>0</td>\n",
       "      <td>0</td>\n",
       "      <td>1</td>\n",
       "      <td>...</td>\n",
       "      <td>0</td>\n",
       "      <td>0</td>\n",
       "      <td>0</td>\n",
       "      <td>0</td>\n",
       "      <td>0</td>\n",
       "      <td>0</td>\n",
       "      <td>0</td>\n",
       "      <td>0</td>\n",
       "      <td>0</td>\n",
       "      <td>0</td>\n",
       "    </tr>\n",
       "    <tr>\n",
       "      <th>1</th>\n",
       "      <td>80.0</td>\n",
       "      <td>6</td>\n",
       "      <td>9600</td>\n",
       "      <td>1262</td>\n",
       "      <td>181500</td>\n",
       "      <td>0</td>\n",
       "      <td>0</td>\n",
       "      <td>0</td>\n",
       "      <td>0</td>\n",
       "      <td>0</td>\n",
       "      <td>...</td>\n",
       "      <td>0</td>\n",
       "      <td>0</td>\n",
       "      <td>0</td>\n",
       "      <td>0</td>\n",
       "      <td>0</td>\n",
       "      <td>0</td>\n",
       "      <td>0</td>\n",
       "      <td>0</td>\n",
       "      <td>0</td>\n",
       "      <td>1</td>\n",
       "    </tr>\n",
       "    <tr>\n",
       "      <th>2</th>\n",
       "      <td>68.0</td>\n",
       "      <td>7</td>\n",
       "      <td>11250</td>\n",
       "      <td>1786</td>\n",
       "      <td>223500</td>\n",
       "      <td>0</td>\n",
       "      <td>0</td>\n",
       "      <td>0</td>\n",
       "      <td>0</td>\n",
       "      <td>1</td>\n",
       "      <td>...</td>\n",
       "      <td>0</td>\n",
       "      <td>0</td>\n",
       "      <td>0</td>\n",
       "      <td>0</td>\n",
       "      <td>0</td>\n",
       "      <td>0</td>\n",
       "      <td>0</td>\n",
       "      <td>0</td>\n",
       "      <td>0</td>\n",
       "      <td>0</td>\n",
       "    </tr>\n",
       "    <tr>\n",
       "      <th>3</th>\n",
       "      <td>60.0</td>\n",
       "      <td>7</td>\n",
       "      <td>9550</td>\n",
       "      <td>1717</td>\n",
       "      <td>140000</td>\n",
       "      <td>0</td>\n",
       "      <td>0</td>\n",
       "      <td>0</td>\n",
       "      <td>0</td>\n",
       "      <td>0</td>\n",
       "      <td>...</td>\n",
       "      <td>0</td>\n",
       "      <td>0</td>\n",
       "      <td>0</td>\n",
       "      <td>0</td>\n",
       "      <td>0</td>\n",
       "      <td>0</td>\n",
       "      <td>0</td>\n",
       "      <td>0</td>\n",
       "      <td>0</td>\n",
       "      <td>0</td>\n",
       "    </tr>\n",
       "    <tr>\n",
       "      <th>4</th>\n",
       "      <td>84.0</td>\n",
       "      <td>8</td>\n",
       "      <td>14260</td>\n",
       "      <td>2198</td>\n",
       "      <td>250000</td>\n",
       "      <td>0</td>\n",
       "      <td>0</td>\n",
       "      <td>0</td>\n",
       "      <td>0</td>\n",
       "      <td>1</td>\n",
       "      <td>...</td>\n",
       "      <td>1</td>\n",
       "      <td>0</td>\n",
       "      <td>0</td>\n",
       "      <td>0</td>\n",
       "      <td>0</td>\n",
       "      <td>0</td>\n",
       "      <td>0</td>\n",
       "      <td>0</td>\n",
       "      <td>0</td>\n",
       "      <td>0</td>\n",
       "    </tr>\n",
       "  </tbody>\n",
       "</table>\n",
       "<p>5 rows × 47 columns</p>\n",
       "</div>"
      ],
      "text/plain": [
       "   LotFrontage  OverallQual  LotArea  GrLivArea  SalePrice  MSSubClass_30  \\\n",
       "0         65.0            7     8450       1710     208500              0   \n",
       "1         80.0            6     9600       1262     181500              0   \n",
       "2         68.0            7    11250       1786     223500              0   \n",
       "3         60.0            7     9550       1717     140000              0   \n",
       "4         84.0            8    14260       2198     250000              0   \n",
       "\n",
       "   MSSubClass_40  MSSubClass_45  MSSubClass_50  MSSubClass_60  ...  \\\n",
       "0              0              0              0              1  ...   \n",
       "1              0              0              0              0  ...   \n",
       "2              0              0              0              1  ...   \n",
       "3              0              0              0              0  ...   \n",
       "4              0              0              0              1  ...   \n",
       "\n",
       "   Neighborhood_NoRidge  Neighborhood_NridgHt  Neighborhood_OldTown  \\\n",
       "0                     0                     0                     0   \n",
       "1                     0                     0                     0   \n",
       "2                     0                     0                     0   \n",
       "3                     0                     0                     0   \n",
       "4                     1                     0                     0   \n",
       "\n",
       "   Neighborhood_SWISU  Neighborhood_Sawyer  Neighborhood_SawyerW  \\\n",
       "0                   0                    0                     0   \n",
       "1                   0                    0                     0   \n",
       "2                   0                    0                     0   \n",
       "3                   0                    0                     0   \n",
       "4                   0                    0                     0   \n",
       "\n",
       "   Neighborhood_Somerst  Neighborhood_StoneBr  Neighborhood_Timber  \\\n",
       "0                     0                     0                    0   \n",
       "1                     0                     0                    0   \n",
       "2                     0                     0                    0   \n",
       "3                     0                     0                    0   \n",
       "4                     0                     0                    0   \n",
       "\n",
       "   Neighborhood_Veenker  \n",
       "0                     0  \n",
       "1                     1  \n",
       "2                     0  \n",
       "3                     0  \n",
       "4                     0  \n",
       "\n",
       "[5 rows x 47 columns]"
      ]
     },
     "execution_count": 38,
     "metadata": {},
     "output_type": "execute_result"
    }
   ],
   "source": [
    "train_OHE.head()"
   ]
  },
  {
   "attachments": {},
   "cell_type": "markdown",
   "metadata": {},
   "source": [
    "# Let's start regression\n",
    "Let's split between predictors and outcome"
   ]
  },
  {
   "cell_type": "code",
   "execution_count": 39,
   "metadata": {},
   "outputs": [
    {
     "name": "stdout",
     "output_type": "stream",
     "text": [
      "X and y have shape (1460, 46), (1460,), respectively\n"
     ]
    }
   ],
   "source": [
    "X = train_OHE.loc[:, train_OHE.columns != 'SalePrice']\n",
    "y = train_OHE['SalePrice']\n",
    "\n",
    "\n",
    "print(f'X and y have shape {X.shape}, {y.shape}, respectively')"
   ]
  },
  {
   "attachments": {},
   "cell_type": "markdown",
   "metadata": {},
   "source": [
    "Let's split the data between a training and a testing dataset."
   ]
  },
  {
   "cell_type": "code",
   "execution_count": 40,
   "metadata": {},
   "outputs": [
    {
     "name": "stdout",
     "output_type": "stream",
     "text": [
      "X_train and y_train have shape (1168, 46), (1168,), respectively\n",
      "X_test and y_test have shape (292, 46), (292,), respectively\n"
     ]
    }
   ],
   "source": [
    "from sklearn.model_selection import train_test_split\n",
    "\n",
    "X_train, X_test, y_train, y_test = train_test_split(\n",
    "    X,\n",
    "    y,\n",
    "    test_size=0.2,\n",
    "    random_state=42\n",
    ")\n",
    "\n",
    "print(f'X_train and y_train have shape {X_train.shape}, {y_train.shape}, respectively')\n",
    "print(f'X_test and y_test have shape {X_test.shape}, {y_test.shape}, respectively')"
   ]
  },
  {
   "attachments": {},
   "cell_type": "markdown",
   "metadata": {},
   "source": [
    "First model using sklearn linear regression"
   ]
  },
  {
   "cell_type": "code",
   "execution_count": 41,
   "metadata": {},
   "outputs": [
    {
     "name": "stdout",
     "output_type": "stream",
     "text": [
      "R-squared is 0.8163096390115477\n",
      "real:  [146224.90629172 176396.78046585  90240.87970019] \n",
      " predicted:  [145000 178000  85000]\n"
     ]
    }
   ],
   "source": [
    "model = LinearRegression()\n",
    "model.fit(X_train, y_train)\n",
    "print(f'R-squared is {model.score(X_train, y_train)}')\n",
    "y_pred = model.predict(X_train)\n",
    "print('real: ', y_pred[:3], '\\n', 'predicted: ', y_train.iloc[:3].values)"
   ]
  },
  {
   "attachments": {},
   "cell_type": "markdown",
   "metadata": {},
   "source": [
    "Now use the statsmodel library for linear regression, including all columns"
   ]
  },
  {
   "cell_type": "code",
   "execution_count": 42,
   "metadata": {},
   "outputs": [
    {
     "name": "stdout",
     "output_type": "stream",
     "text": [
      "                            OLS Regression Results                            \n",
      "==============================================================================\n",
      "Dep. Variable:              SalePrice   R-squared:                       0.816\n",
      "Model:                            OLS   Adj. R-squared:                  0.809\n",
      "Method:                 Least Squares   F-statistic:                     108.3\n",
      "Date:                Thu, 02 Mar 2023   Prob (F-statistic):               0.00\n",
      "Time:                        16:16:44   Log-Likelihood:                -13813.\n",
      "No. Observations:                1168   AIC:                         2.772e+04\n",
      "Df Residuals:                    1121   BIC:                         2.796e+04\n",
      "Df Model:                          46                                         \n",
      "Covariance Type:            nonrobust                                         \n",
      "========================================================================================\n",
      "                           coef    std err          t      P>|t|      [0.025      0.975]\n",
      "----------------------------------------------------------------------------------------\n",
      "const                -1.401e+04   1.63e+04     -0.858      0.391   -4.61e+04     1.8e+04\n",
      "LotFrontage           -173.4763     56.603     -3.065      0.002    -284.536     -62.416\n",
      "OverallQual           1.931e+04   1277.115     15.117      0.000    1.68e+04    2.18e+04\n",
      "LotArea                  0.5976      0.109      5.460      0.000       0.383       0.812\n",
      "GrLivArea               61.4784      3.264     18.838      0.000      55.075      67.882\n",
      "MSSubClass_30        -1.832e+04   6247.968     -2.933      0.003   -3.06e+04   -6063.161\n",
      "MSSubClass_40        -5516.3038   1.99e+04     -0.277      0.782   -4.46e+04    3.35e+04\n",
      "MSSubClass_45        -2.988e+04   1.14e+04     -2.626      0.009   -5.22e+04   -7551.207\n",
      "MSSubClass_50        -2.977e+04   4719.810     -6.306      0.000    -3.9e+04   -2.05e+04\n",
      "MSSubClass_60        -1.806e+04   3554.020     -5.083      0.000    -2.5e+04   -1.11e+04\n",
      "MSSubClass_70        -3.991e+04   6554.793     -6.089      0.000   -5.28e+04   -2.71e+04\n",
      "MSSubClass_75        -3.832e+04   1.02e+04     -3.745      0.000   -5.84e+04   -1.82e+04\n",
      "MSSubClass_80        -8153.4540   5430.404     -1.501      0.134   -1.88e+04    2501.446\n",
      "MSSubClass_85         4403.4370   8491.343      0.519      0.604   -1.23e+04    2.11e+04\n",
      "MSSubClass_90         -2.98e+04   5863.322     -5.082      0.000   -4.13e+04   -1.83e+04\n",
      "MSSubClass_120        -3.59e+04   5752.152     -6.241      0.000   -4.72e+04   -2.46e+04\n",
      "MSSubClass_160       -7.043e+04   7336.559     -9.600      0.000   -8.48e+04    -5.6e+04\n",
      "MSSubClass_180       -1.529e+04   1.53e+04     -1.000      0.317   -4.53e+04    1.47e+04\n",
      "MSSubClass_190       -3.669e+04   7561.688     -4.852      0.000   -5.15e+04   -2.19e+04\n",
      "MasVnrType_BrkFace     1.92e+04   9888.405      1.941      0.052    -206.555    3.86e+04\n",
      "MasVnrType_NA         1.038e+04   1.71e+04      0.608      0.544   -2.31e+04    4.39e+04\n",
      "MasVnrType_None       1.927e+04   9749.868      1.977      0.048     142.836    3.84e+04\n",
      "MasVnrType_Stone      2.844e+04   1.05e+04      2.720      0.007    7924.576     4.9e+04\n",
      "Neighborhood_Blueste  1165.1310   3.59e+04      0.032      0.974   -6.92e+04    7.16e+04\n",
      "Neighborhood_BrDale   -1.18e+04   1.51e+04     -0.779      0.436   -4.15e+04    1.79e+04\n",
      "Neighborhood_BrkSide -1.989e+04   1.21e+04     -1.638      0.102   -4.37e+04    3935.934\n",
      "Neighborhood_ClearCr -1100.3251   1.33e+04     -0.083      0.934   -2.72e+04     2.5e+04\n",
      "Neighborhood_CollgCr -1.129e+04   1.06e+04     -1.069      0.285    -3.2e+04    9426.508\n",
      "Neighborhood_Crawfor  4869.2075   1.17e+04      0.416      0.677   -1.81e+04    2.78e+04\n",
      "Neighborhood_Edwards -3.579e+04   1.12e+04     -3.209      0.001   -5.77e+04   -1.39e+04\n",
      "Neighborhood_Gilbert -1.767e+04   1.13e+04     -1.567      0.117   -3.98e+04    4457.019\n",
      "Neighborhood_IDOTRR  -3.225e+04   1.29e+04     -2.495      0.013   -5.76e+04   -6891.447\n",
      "Neighborhood_MeadowV -1.016e+04   1.65e+04     -0.615      0.539   -4.26e+04    2.23e+04\n",
      "Neighborhood_Mitchel -1.923e+04   1.16e+04     -1.664      0.096   -4.19e+04    3438.929\n",
      "Neighborhood_NAmes   -2.922e+04   1.07e+04     -2.739      0.006   -5.02e+04   -8292.290\n",
      "Neighborhood_NPkVill  7204.0920   1.63e+04      0.442      0.659   -2.48e+04    3.92e+04\n",
      "Neighborhood_NWAmes  -3.048e+04    1.1e+04     -2.771      0.006   -5.21e+04   -8897.892\n",
      "Neighborhood_NoRidge  3.743e+04   1.18e+04      3.167      0.002    1.42e+04    6.06e+04\n",
      "Neighborhood_NridgHt  4.886e+04   1.08e+04      4.528      0.000    2.77e+04       7e+04\n",
      "Neighborhood_OldTown -3.768e+04   1.15e+04     -3.269      0.001   -6.03e+04   -1.51e+04\n",
      "Neighborhood_SWISU   -3.805e+04   1.34e+04     -2.838      0.005   -6.44e+04   -1.17e+04\n",
      "Neighborhood_Sawyer  -2.608e+04   1.14e+04     -2.281      0.023   -4.85e+04   -3649.621\n",
      "Neighborhood_SawyerW -1.919e+04   1.13e+04     -1.705      0.088   -4.13e+04    2889.729\n",
      "Neighborhood_Somerst  9852.8981   1.11e+04      0.890      0.374   -1.19e+04    3.16e+04\n",
      "Neighborhood_StoneBr  5.698e+04    1.2e+04      4.739      0.000    3.34e+04    8.06e+04\n",
      "Neighborhood_Timber  -7187.9577   1.22e+04     -0.591      0.554    -3.1e+04    1.67e+04\n",
      "Neighborhood_Veenker  2.991e+04   1.48e+04      2.018      0.044     823.123     5.9e+04\n",
      "==============================================================================\n",
      "Omnibus:                      285.916   Durbin-Watson:                   2.065\n",
      "Prob(Omnibus):                  0.000   Jarque-Bera (JB):            15127.396\n",
      "Skew:                           0.018   Prob(JB):                         0.00\n",
      "Kurtosis:                      20.631   Cond. No.                     7.98e+05\n",
      "==============================================================================\n",
      "\n",
      "Notes:\n",
      "[1] Standard Errors assume that the covariance matrix of the errors is correctly specified.\n",
      "[2] The condition number is large, 7.98e+05. This might indicate that there are\n",
      "strong multicollinearity or other numerical problems.\n"
     ]
    }
   ],
   "source": [
    "import statsmodels.api as sm\n",
    "\n",
    "# Include intercept: needed in statsmodels\n",
    "X_train = sm.add_constant(X_train)\n",
    "X_test = sm.add_constant(X_test)\n",
    "\n",
    "# Fit linear regression model\n",
    "model = sm.OLS(y_train, X_train).fit()\n",
    "\n",
    "# View model summary\n",
    "print(model.summary())\n",
    "# model.rsquared"
   ]
  },
  {
   "cell_type": "code",
   "execution_count": 43,
   "metadata": {},
   "outputs": [],
   "source": [
    "def r2_score_adj(y_actual, y_pred, model):\n",
    "    \"\"\"Calculating the adjusted R2\"\"\"\n",
    "    from sklearn.metrics import r2_score\n",
    "    r2 = r2_score(y_actual, y_pred)\n",
    "    p = len(model.params.index)\n",
    "    n = len(y_actual)\n",
    "    return 1 - (1 - r2) * (n - 1) / (n - p - 1)\n"
   ]
  },
  {
   "attachments": {},
   "cell_type": "markdown",
   "metadata": {},
   "source": [
    "We want to see if we can pick only the useful variables.\n",
    "To do so we initialise the model to an \"empty\" one, and add a feature at at time, in case the feature improves the model. We use adjusted R2 squared on the testing data as metric."
   ]
  },
  {
   "cell_type": "code",
   "execution_count": 51,
   "metadata": {},
   "outputs": [],
   "source": [
    "def feature_selection(X_train, y_train, X_test, y_test):\n",
    "\n",
    "    col_list = []\n",
    "    current = 0\n",
    "    current_highest = 0\n",
    "    best_feature = ''\n",
    "    go_next = True\n",
    "    features_remaining = list(X_train.columns)\n",
    "    previous_highest = 0\n",
    "\n",
    "    while go_next:\n",
    "        go_next = False\n",
    "        for column in features_remaining:\n",
    "            col_list_temp = col_list + [column]\n",
    "\n",
    "            X_train_select = X_train.loc[:, (X_train.columns.isin(col_list_temp))]\n",
    "            X_test_select = X_test.loc[:, (X_test.columns.isin(col_list_temp))]\n",
    "\n",
    "            model = sm.OLS(y_train, X_train_select).fit()\n",
    "            y_pred = model.predict(X_test_select)\n",
    "\n",
    "            current = r2_score_adj(y_test, y_pred, model)\n",
    "            if (current > current_highest) & (current > previous_highest):\n",
    "                current_highest = current\n",
    "                best_feature = column\n",
    "                go_next = True\n",
    "\n",
    "\n",
    "        print(f'Current_highest: {current_highest}, previous Highest: {previous_highest}')\n",
    "        #view model summary\n",
    "        if len(features_remaining) == 0:\n",
    "            break\n",
    "        if go_next:\n",
    "            col_list = col_list + [best_feature]\n",
    "            features_remaining.remove(best_feature)\n",
    "            previous_highest = current_highest\n",
    "    \n",
    "    X_train_final = X_train.loc[:, (X_train.columns.isin(col_list))]\n",
    "    model = sm.OLS(y_train, X_train_final).fit()\n",
    "\n",
    "    return model\n"
   ]
  },
  {
   "attachments": {},
   "cell_type": "markdown",
   "metadata": {},
   "source": [
    "Get the best model."
   ]
  },
  {
   "cell_type": "code",
   "execution_count": 52,
   "metadata": {},
   "outputs": [
    {
     "name": "stdout",
     "output_type": "stream",
     "text": [
      "Current_highest: 0.5652644215673962, previous Highest: 0\n",
      "Current_highest: 0.6479224707068022, previous Highest: 0.5652644215673962\n",
      "Current_highest: 0.6968914914289195, previous Highest: 0.6479224707068022\n",
      "Current_highest: 0.7631659606365804, previous Highest: 0.6968914914289195\n",
      "Current_highest: 0.7766100392804669, previous Highest: 0.7631659606365804\n",
      "Current_highest: 0.7858794454666729, previous Highest: 0.7766100392804669\n",
      "Current_highest: 0.7944463394868562, previous Highest: 0.7858794454666729\n",
      "Current_highest: 0.7995903046528863, previous Highest: 0.7944463394868562\n",
      "Current_highest: 0.8042738455644314, previous Highest: 0.7995903046528863\n",
      "Current_highest: 0.8066334893077687, previous Highest: 0.8042738455644314\n",
      "Current_highest: 0.8080580367753306, previous Highest: 0.8066334893077687\n",
      "Current_highest: 0.8097693266654316, previous Highest: 0.8080580367753306\n",
      "Current_highest: 0.8119383830464781, previous Highest: 0.8097693266654316\n",
      "Current_highest: 0.8138037062714918, previous Highest: 0.8119383830464781\n",
      "Current_highest: 0.8160070265182876, previous Highest: 0.8138037062714918\n",
      "Current_highest: 0.8179243014761813, previous Highest: 0.8160070265182876\n",
      "Current_highest: 0.8207724260946443, previous Highest: 0.8179243014761813\n",
      "Current_highest: 0.8214678007991948, previous Highest: 0.8207724260946443\n",
      "Current_highest: 0.8218150506019855, previous Highest: 0.8214678007991948\n",
      "Current_highest: 0.8223766235042418, previous Highest: 0.8218150506019855\n",
      "Current_highest: 0.8226649849188834, previous Highest: 0.8223766235042418\n",
      "Current_highest: 0.822852150984186, previous Highest: 0.8226649849188834\n",
      "Current_highest: 0.822921351654049, previous Highest: 0.822852150984186\n",
      "Current_highest: 0.822921351654049, previous Highest: 0.822921351654049\n"
     ]
    }
   ],
   "source": [
    "model = feature_selection(X_train, y_train, X_test, y_test)"
   ]
  },
  {
   "cell_type": "code",
   "execution_count": 46,
   "metadata": {},
   "outputs": [
    {
     "name": "stdout",
     "output_type": "stream",
     "text": [
      "                            OLS Regression Results                            \n",
      "==============================================================================\n",
      "Dep. Variable:              SalePrice   R-squared:                       0.802\n",
      "Model:                            OLS   Adj. R-squared:                  0.798\n",
      "Method:                 Least Squares   F-statistic:                     210.4\n",
      "Date:                Thu, 02 Mar 2023   Prob (F-statistic):               0.00\n",
      "Time:                        16:16:48   Log-Likelihood:                -13858.\n",
      "No. Observations:                1168   AIC:                         2.776e+04\n",
      "Df Residuals:                    1145   BIC:                         2.788e+04\n",
      "Df Model:                          22                                         \n",
      "Covariance Type:            nonrobust                                         \n",
      "========================================================================================\n",
      "                           coef    std err          t      P>|t|      [0.025      0.975]\n",
      "----------------------------------------------------------------------------------------\n",
      "const                -4.031e+04   6062.348     -6.650      0.000   -5.22e+04   -2.84e+04\n",
      "OverallQual           2.133e+04   1177.650     18.109      0.000     1.9e+04    2.36e+04\n",
      "LotArea                  0.6075      0.105      5.800      0.000       0.402       0.813\n",
      "GrLivArea               59.0491      3.138     18.819      0.000      52.893      65.205\n",
      "MSSubClass_50        -2.261e+04   4062.375     -5.565      0.000   -3.06e+04   -1.46e+04\n",
      "MSSubClass_60         -1.35e+04   3285.073     -4.111      0.000   -1.99e+04   -7058.790\n",
      "MSSubClass_70        -3.308e+04   6078.222     -5.443      0.000    -4.5e+04   -2.12e+04\n",
      "MSSubClass_75         -3.39e+04      1e+04     -3.373      0.001   -5.36e+04   -1.42e+04\n",
      "MSSubClass_90        -2.652e+04   5837.711     -4.543      0.000    -3.8e+04   -1.51e+04\n",
      "MSSubClass_120       -1.866e+04   4920.335     -3.793      0.000   -2.83e+04   -9010.766\n",
      "MSSubClass_160       -5.203e+04   5435.324     -9.573      0.000   -6.27e+04   -4.14e+04\n",
      "MSSubClass_190       -2.871e+04   7329.644     -3.917      0.000   -4.31e+04   -1.43e+04\n",
      "MasVnrType_Stone      9508.5436   4121.737      2.307      0.021    1421.540    1.76e+04\n",
      "Neighborhood_Crawfor  2.239e+04   6075.264      3.685      0.000    1.05e+04    3.43e+04\n",
      "Neighborhood_Edwards -1.527e+04   4107.246     -3.719      0.000   -2.33e+04   -7214.665\n",
      "Neighborhood_IDOTRR  -1.654e+04   7267.672     -2.275      0.023   -3.08e+04   -2277.993\n",
      "Neighborhood_NoRidge  5.429e+04   6671.975      8.137      0.000    4.12e+04    6.74e+04\n",
      "Neighborhood_NridgHt  6.151e+04   5521.708     11.140      0.000    5.07e+04    7.23e+04\n",
      "Neighborhood_OldTown -1.838e+04   4672.546     -3.933      0.000   -2.75e+04   -9207.803\n",
      "Neighborhood_SWISU   -1.714e+04   8400.145     -2.041      0.041   -3.36e+04    -662.806\n",
      "Neighborhood_Somerst   2.58e+04   4865.833      5.302      0.000    1.63e+04    3.53e+04\n",
      "Neighborhood_StoneBr  6.963e+04   8379.340      8.310      0.000    5.32e+04    8.61e+04\n",
      "Neighborhood_Timber   1.227e+04   6985.861      1.756      0.079   -1439.741     2.6e+04\n",
      "==============================================================================\n",
      "Omnibus:                      322.232   Durbin-Watson:                   2.040\n",
      "Prob(Omnibus):                  0.000   Jarque-Bera (JB):            17665.498\n",
      "Skew:                          -0.381   Prob(JB):                         0.00\n",
      "Kurtosis:                      22.037   Cond. No.                     1.73e+05\n",
      "==============================================================================\n",
      "\n",
      "Notes:\n",
      "[1] Standard Errors assume that the covariance matrix of the errors is correctly specified.\n",
      "[2] The condition number is large, 1.73e+05. This might indicate that there are\n",
      "strong multicollinearity or other numerical problems.\n"
     ]
    }
   ],
   "source": [
    "print(model.summary())"
   ]
  },
  {
   "attachments": {},
   "cell_type": "markdown",
   "metadata": {},
   "source": [
    "The next step is to further reduce the feature set according to different metrics. For example the statistical significance of the parameters."
   ]
  },
  {
   "cell_type": "code",
   "execution_count": 64,
   "metadata": {},
   "outputs": [],
   "source": [
    "col_list = model.params.index.tolist()\n",
    "to_remove_list = ['MasVnrType_None', 'MasVnrType_BrkFace', 'Neighborhood_Crawfor']\n",
    "\n",
    "for feature in to_remove_list:\n",
    "    if feature in col_list:\n",
    "        col_list.remove(feature)\n",
    "\n",
    "#col_list.remove('MasVnrType_None')\n",
    "#col_list.remove('MSSubClass_80')"
   ]
  },
  {
   "attachments": {},
   "cell_type": "markdown",
   "metadata": {},
   "source": [
    "Update the training and testing data"
   ]
  },
  {
   "cell_type": "code",
   "execution_count": 65,
   "metadata": {},
   "outputs": [],
   "source": [
    "X_train_select = X_train.loc[:, (X_train.columns.isin(col_list))]\n",
    "X_test_select = X_test.loc[:, (X_test.columns.isin(col_list))]\n"
   ]
  },
  {
   "attachments": {},
   "cell_type": "markdown",
   "metadata": {},
   "source": [
    "Get the final model"
   ]
  },
  {
   "cell_type": "code",
   "execution_count": null,
   "metadata": {},
   "outputs": [],
   "source": [
    "model = sm.OLS(y_train, X_train_select).fit()\n",
    "print(model.summary())"
   ]
  }
 ],
 "metadata": {
  "kernelspec": {
   "display_name": "stcti",
   "language": "python",
   "name": "python3"
  },
  "language_info": {
   "codemirror_mode": {
    "name": "ipython",
    "version": 3
   },
   "file_extension": ".py",
   "mimetype": "text/x-python",
   "name": "python",
   "nbconvert_exporter": "python",
   "pygments_lexer": "ipython3",
   "version": "3.10.9"
  },
  "orig_nbformat": 4,
  "vscode": {
   "interpreter": {
    "hash": "03c07df2c9a6b9046c210c7a744a130a022831492a99acd19eaaf933b633c429"
   }
  }
 },
 "nbformat": 4,
 "nbformat_minor": 2
}
